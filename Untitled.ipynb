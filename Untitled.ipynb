{
 "cells": [
  {
   "cell_type": "code",
   "execution_count": 63,
   "metadata": {},
   "outputs": [],
   "source": [
    "class Animal():\n",
    "    name =\"\"\n",
    "    def voice(self):\n",
    "        print(\"Щас скажу\")\n",
    "    def __init__(self,name):\n",
    "        self.name=name \n",
    "        \n",
    "class Cat(Animal):\n",
    "    name =\"cat\"\n",
    "    def catch_mouse(self):\n",
    "        return True\n",
    "\n",
    "    def voice(self,*args,**kwargs):\n",
    "        #super().voice(*args,**kwargs)\n",
    "        print(\"Mяy, Я \"+self.name)  \n",
    "\n",
    "class Dog(Animal):\n",
    "    name =\"cat\"\n",
    "\n",
    "    def voice(self,*args,**kwargs):\n",
    "        #super().voice(*args,**kwargs)\n",
    "        print(\"Гав, Я \"+self.name)  \n",
    "               "
   ]
  },
  {
   "cell_type": "code",
   "execution_count": 64,
   "metadata": {},
   "outputs": [
    {
     "name": "stdout",
     "output_type": "stream",
     "text": [
      "Mяy, Я Барсик\n",
      "True\n",
      "Гав, Я Шарик\n"
     ]
    },
    {
     "ename": "AttributeError",
     "evalue": "'Dog' object has no attribute 'catch_mouse'",
     "output_type": "error",
     "traceback": [
      "\u001b[0;31m---------------------------------------------------------------------------\u001b[0m",
      "\u001b[0;31mAttributeError\u001b[0m                            Traceback (most recent call last)",
      "\u001b[0;32m<ipython-input-64-38447b5327c9>\u001b[0m in \u001b[0;36m<module>\u001b[0;34m()\u001b[0m\n\u001b[1;32m      5\u001b[0m \u001b[0mdog\u001b[0m \u001b[0;34m=\u001b[0m\u001b[0mDog\u001b[0m\u001b[0;34m(\u001b[0m\u001b[0;34m'Шарик'\u001b[0m\u001b[0;34m)\u001b[0m\u001b[0;34m\u001b[0m\u001b[0;34m\u001b[0m\u001b[0m\n\u001b[1;32m      6\u001b[0m \u001b[0mdog\u001b[0m\u001b[0;34m.\u001b[0m\u001b[0mvoice\u001b[0m\u001b[0;34m(\u001b[0m\u001b[0;34m)\u001b[0m\u001b[0;34m\u001b[0m\u001b[0;34m\u001b[0m\u001b[0m\n\u001b[0;32m----> 7\u001b[0;31m \u001b[0mprint\u001b[0m\u001b[0;34m(\u001b[0m\u001b[0mdog\u001b[0m\u001b[0;34m.\u001b[0m\u001b[0mcatch_mouse\u001b[0m\u001b[0;34m(\u001b[0m\u001b[0;34m)\u001b[0m\u001b[0;34m)\u001b[0m\u001b[0;34m\u001b[0m\u001b[0;34m\u001b[0m\u001b[0m\n\u001b[0m",
      "\u001b[0;31mAttributeError\u001b[0m: 'Dog' object has no attribute 'catch_mouse'"
     ]
    }
   ],
   "source": [
    "cat =Cat('Барсик')\n",
    "cat.voice()\n",
    "print(cat.catch_mouse())\n",
    "\n",
    "dog =Dog('Шарик')\n",
    "dog.voice()\n",
    "print(dog.catch_mouse())"
   ]
  },
  {
   "cell_type": "code",
   "execution_count": 70,
   "metadata": {},
   "outputs": [
    {
     "name": "stdout",
     "output_type": "stream",
     "text": [
      "Mяy, Я Котопес\n",
      "Гав, Я Песокот\n"
     ]
    }
   ],
   "source": [
    "class CatDog(Cat,Dog):\n",
    "    pass\n",
    "cat_dog =CatDog(name='Котопес')\n",
    "cat_dog.voice()\n",
    "\n",
    "class DogCat(Dog,Cat):\n",
    "    pass\n",
    "cat_dog =DogCat(name='Песокот')\n",
    "cat_dog.voice()"
   ]
  },
  {
   "cell_type": "code",
   "execution_count": null,
   "metadata": {},
   "outputs": [],
   "source": [
    "\n"
   ]
  },
  {
   "cell_type": "code",
   "execution_count": 67,
   "metadata": {},
   "outputs": [
    {
     "name": "stdout",
     "output_type": "stream",
     "text": [
      "Mяy, Я Котопес\n"
     ]
    }
   ],
   "source": [
    "cat_dog.voice()"
   ]
  },
  {
   "cell_type": "code",
   "execution_count": null,
   "metadata": {},
   "outputs": [],
   "source": []
  }
 ],
 "metadata": {
  "kernelspec": {
   "display_name": "Python 3",
   "language": "python",
   "name": "python3"
  },
  "language_info": {
   "codemirror_mode": {
    "name": "ipython",
    "version": 3
   },
   "file_extension": ".py",
   "mimetype": "text/x-python",
   "name": "python",
   "nbconvert_exporter": "python",
   "pygments_lexer": "ipython3",
   "version": "3.7.3"
  }
 },
 "nbformat": 4,
 "nbformat_minor": 2
}
